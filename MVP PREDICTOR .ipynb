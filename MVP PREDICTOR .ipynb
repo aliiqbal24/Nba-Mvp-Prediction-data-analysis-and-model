{
 "cells": [
  {
   "cell_type": "code",
   "execution_count": null,
   "id": "73daed1e-f44a-4623-b836-c18961583765",
   "metadata": {},
   "outputs": [],
   "source": [
    "import numpy as np # linear algebra\n",
    "import pandas as pd # data processing, CSV file I/O (e.g. pd.read_csv)\n",
    "\n",
    "\n",
    "import os\n",
    "for dirname, _, filenames in os.walk('/kaggle/input'):\n",
    "    for filename in filenames:\n",
    "        print(os.path.join(dirname, filename))\n"
   ]
  },
  {
   "cell_type": "code",
   "execution_count": null,
   "id": "3aaf1b63-c4a9-41d0-b40e-b5b87cef6194",
   "metadata": {},
   "outputs": [],
   "source": [
    "/kaggle/input/nba-player-season-statistics-with-mvp-win-share/NBA_Dataset.csv"
   ]
  },
  {
   "cell_type": "code",
   "execution_count": null,
   "id": "b86f03cd-6aca-4244-b590-87e94348b532",
   "metadata": {},
   "outputs": [],
   "source": [
    "data = pd.read_csv('/kaggle/input/nba-player-season-statistics-with-mvp-win-share/NBA_Dataset.csv')"
   ]
  },
  {
   "cell_type": "code",
   "execution_count": null,
   "id": "7e44f86c-01a0-4c77-b66b-d19cd81f54c4",
   "metadata": {},
   "outputs": [],
   "source": [
    "data.fillna(0)"
   ]
  },
  {
   "cell_type": "code",
   "execution_count": null,
   "id": "75d159b6-d45d-441e-a257-25a31dab5fc5",
   "metadata": {},
   "outputs": [],
   "source": [
    "#Adding MVP column based on the player (by season) with the most Award Shares (MVP vote percentage)\n",
    "mvplist = data.loc[data.groupby('season')['award_share'].idxmax()]\n",
    "mvplist[\"mvp\"] = True\n",
    "data = data.merge(mvplist[[\"season\", \"award_share\", \"mvp\"]], on=[\"season\", \"award_share\"], how=\"left\")\n",
    "data['mvp'] = data['mvp'].astype('boolean').fillna(False)"
   ]
  },
  {
   "cell_type": "code",
   "execution_count": null,
   "id": "ac0150bd-552e-4ebd-9b05-3c223d638a85",
   "metadata": {},
   "outputs": [],
   "source": [
    "#Narrowing Dataset by Setting Guidlines: (Very Simple Guidlies so we can not only see MVP winners in the dataset, but also all other notable NBA players in a season.)\n",
    "    # - All MVPs must have played more than 20 games\n",
    "    # - Must have averaged more than 10 minutes a game\n",
    "    # - Scored more than 5 pts per game\n",
    "data =  data[data[\"gs\"] > 20]\n",
    "data = data[data['mp_per_g'] > 10]\n",
    "data = data[data['pts_per_g'] > 5]\n",
    "\n",
    "data[data['mvp'] == True]"
   ]
  },
  {
   "cell_type": "code",
   "execution_count": null,
   "id": "9a4f2c9a-f43b-45f1-b9ce-61e6403a22a7",
   "metadata": {},
   "outputs": [],
   "source": [
    "import matplotlib.pyplot as plt\n",
    "import seaborn as sns\n",
    "import random \n",
    "\n",
    "#Getting rid of unecessary columns and turning the 'mvp' column into binary\n",
    "mvpfactors = data.copy()\n",
    "mvpfactors = pd.concat([mvpfactors, pd.get_dummies(mvpfactors['mvp'], prefix='Is_MVP')], axis=1)\n",
    "mvpfactors.drop(columns=['mvp', 'season', 'Is_MVP_False', 'pos', 'team_id'], inplace=True)"
   ]
  },
  {
   "cell_type": "code",
   "execution_count": null,
   "id": "808785b1-7eec-4ac3-a195-82e7c11473ad",
   "metadata": {},
   "outputs": [],
   "source": [
    "#Modeling different stats and their correlation to winning MVP\n",
    "# - First, looking at Value Over Replacement (VORP) to Award Shares\n",
    "plt.figure(figsize = (10,6))\n",
    "plt.scatter(data['vorp'], data['award_share'])\n",
    "plt.title('MVP Award Shares vs. Value Over Replacement (2022 Season)')\n",
    "plt.xlabel('Vorp')\n",
    "plt.ylabel('Award Shares')\n",
    "plt.show()"
   ]
  },
  {
   "cell_type": "code",
   "execution_count": null,
   "id": "a01e3c43-4e77-47ef-ac08-b37cbb5ceb4e",
   "metadata": {},
   "outputs": [],
   "source": [
    "#Looking at a specific players stats in a Radar Chart, in this case, the MVP Nikola Jokic\n",
    "\n",
    "player_name = 'Nikola Jokić'\n",
    "mvp_data = mvpfactors[mvpfactors['player'] == player_name].iloc[0]\n",
    "stats = ['fg_pct', 'trb_pct', 'ast_pct', 'stl_pct', 'blk_pct', 'tov_pct', 'usg_pct']\n",
    "values = [mvp_data[stat] for stat in stats]\n",
    "\n",
    "fig, ax = plt.subplots(figsize=(8, 8), subplot_kw={'projection': 'polar'})\n",
    "theta = np.linspace(0, 2 * np.pi, len(stats), endpoint=False)\n",
    "ax.plot(theta, values, 'o-', linewidth=2)\n",
    "ax.fill(theta, values, alpha=0.2)\n",
    "ax.set_thetagrids(theta * 180 / np.pi, stats)\n",
    "ax.set_title(f\"{player_name}'s Statistical Profile\")\n",
    "plt.show()"
   ]
  },
  {
   "cell_type": "code",
   "execution_count": null,
   "id": "a8bc1035-dcec-4769-b819-3517cc7b2cb9",
   "metadata": {},
   "outputs": [],
   "source": [
    "# Assuming mvpfactors DataFrame is already defined and processed\n",
    "mvpfactors = mvpfactors.drop(columns=['award_share', 'player'])\n",
    "corr_matrix = mvpfactors.corr()\n",
    "\n",
    "# Get the top 20 factors correlated with the MVP variable\n",
    "top_factors = corr_matrix['Is_MVP_True'].abs().sort_values(ascending=False).head(20).index\n",
    "\n",
    "# Create a new correlation matrix for the top 20 factors\n",
    "sorted_corr_matrix = corr_matrix.loc[top_factors, top_factors]\n",
    "\n",
    "# Seaborn Heatmap of the Top 20 Correlation Matrix\n",
    "fig, ax = plt.subplots(figsize=(12, 12))  # Adjust size for clarity\n",
    "sns.heatmap(\n",
    "    sorted_corr_matrix,\n",
    "    vmin=-1, vmax=1,\n",
    "    cmap=\"ocean\",\n",
    "    center=0,\n",
    "    annot=True,\n",
    "    fmt=\".2f\",\n",
    "    annot_kws={\"fontsize\": 8},\n",
    "    linewidths=0.5,\n",
    "    linecolor=\"white\",\n",
    "    cbar=True,\n",
    "    cbar_kws={\"orientation\": \"vertical\"},\n",
    "    square=True,\n",
    "    xticklabels=True,\n",
    "    yticklabels=True,\n",
    "    ax=ax\n",
    ")\n",
    "plt.title(\"Correlation Matrix of Top 20 Factors Related to MVP Award\")\n",
    "plt.show()"
   ]
  },
  {
   "cell_type": "code",
   "execution_count": null,
   "id": "4e2de320-f9f9-400d-a2b6-c54a30e3361a",
   "metadata": {},
   "outputs": [],
   "source": [
    "#Predictors we will use for our model\n",
    "predictors = sorted_corr_matrix.index[:21]\n",
    "predictors = predictors[predictors != 'Is_MVP_True']\n",
    "predictors"
   ]
  },
  {
   "cell_type": "code",
   "execution_count": null,
   "id": "4e81d4e4-ae94-42c6-b923-ea5184c2703e",
   "metadata": {},
   "outputs": [],
   "source": [
    "#Adding Season, Player, and Award Share data back for the purpose of training\n",
    "mvpfactors = mvpfactors.assign(Player=data['player'], Award_Shares=data['award_share'], Season=data['season'])\n",
    "\n",
    "#The data will be trained on the data from NBA seasons 1982-2021 and will predict the 2022 MVP voting\n",
    "train = mvpfactors[mvpfactors[\"Season\"] < 2022]\n",
    "test = mvpfactors[mvpfactors[\"Season\"] == 2022]\n",
    "\n",
    "#Trying Ridge Regression (Train/Test Split)\n",
    "from sklearn.linear_model import Ridge\n",
    "\n",
    "reg = Ridge(alpha=0.1)\n",
    "reg.fit(train[predictors], train[\"Award_Shares\"])\n",
    "predictions = reg.predict(test[predictors])\n",
    "predictions = pd.DataFrame(predictions, columns=[\"predictions\"], index=test.index)\n",
    "combination = pd.concat([test[[\"Player\",\"Award_Shares\"]], predictions], axis=1)\n",
    "\n",
    "#Adding a column for the actual results of 2022 MVP voting\n",
    "combination = combination.sort_values(\"Award_Shares\", ascending=False)\n",
    "combination[\"Rk\"] = list(range(1, combination.shape[0] + 1))\n",
    "\n",
    "#Adding a column for the predicted results of the MVP voting\n",
    "combination = combination.sort_values(\"predictions\", ascending=False)\n",
    "combination[\"Predicted_Rk\"] = list(range(1, combination.shape[0] + 1))\n",
    "\n",
    "combination = combination.sort_values(\"Award_Shares\", ascending=False)\n",
    "combination.head(40)"
   ]
  },
  {
   "cell_type": "code",
   "execution_count": null,
   "id": "08d4d4ef-a7b9-457a-b997-10bcc9dc90dc",
   "metadata": {},
   "outputs": [],
   "source": [
    "#Mean Squared Error to test how accurate our model is, a lower score is preferable\n",
    "from sklearn.metrics import mean_squared_error\n",
    "mean_squared_error(combination[\"Award_Shares\"], combination[\"predictions\"])"
   ]
  },
  {
   "cell_type": "code",
   "execution_count": null,
   "id": "e6b6ba73-9d32-4712-9237-08229709ec7e",
   "metadata": {},
   "outputs": [],
   "source": [
    "#Average prescion of the predicted rankings (how far off they were from the actual ranking)\n",
    "# - The closer the score is to one, the more accurate it is\n",
    "def find_ap(combination):\n",
    "    \n",
    "    # Sort the actual and predicted rankings\n",
    "    actual = combination.sort_values(\"Award_Shares\", ascending=False).head(5)\n",
    "    predicted = combination.sort_values(\"predictions\", ascending=False)\n",
    "\n",
    "    # Calculate the average precision\n",
    "    ps = []\n",
    "    found = 0\n",
    "    seen = 1\n",
    "    for _, row in predicted.iterrows():\n",
    "        if row[\"Player\"] in actual[\"Player\"].values:\n",
    "            found += 1\n",
    "            ps.append(found / seen)\n",
    "        seen += 1\n",
    "\n",
    "    if not ps:\n",
    "        return 0.0\n",
    "    else:\n",
    "        return sum(ps) / len(ps)\n",
    "    \n",
    "find_ap(combination)"
   ]
  },
  {
   "cell_type": "code",
   "execution_count": null,
   "id": "4df6b0b9-dec1-4f57-9df7-12cdbc1da043",
   "metadata": {},
   "outputs": [],
   "source": [
    "#Testing to see how accurate the model is after using predictions from 5 years (1991-1995)\n",
    "\n",
    "years = list(range(1991,2022))\n",
    "aps = []\n",
    "all_predictions = []\n",
    "for year in years[5:]:\n",
    "    train = mvpfactors[mvpfactors[\"Season\"] < year]\n",
    "    test = mvpfactors[mvpfactors[\"Season\"] == year]\n",
    "    reg.fit(train[predictors],train[\"Award_Shares\"])\n",
    "    predictions = reg.predict(test[predictors])\n",
    "    predictions = pd.DataFrame(predictions, columns=[\"predictions\"], index=test.index)\n",
    "    combination = pd.concat([test[[\"Player\", \"Award_Shares\"]], predictions], axis=1)\n",
    "    all_predictions.append(combination)\n",
    "    aps.append(find_ap(combination))\n",
    "\n",
    "sum(aps) / len(aps)"
   ]
  },
  {
   "cell_type": "code",
   "execution_count": null,
   "id": "95ffab21-c953-47a7-8334-5b90cea3b246",
   "metadata": {},
   "outputs": [],
   "source": [
    "#Find differences between MVP voting rank and predicted rank\n",
    "def add_ranks(predictions):\n",
    "    predictions = predictions.sort_values(\"predictions\", ascending=False)\n",
    "    predictions[\"Predicted_Rk\"] = list(range(1,predictions.shape[0]+1))\n",
    "    predictions = predictions.sort_values(\"Award_Shares\", ascending=False)\n",
    "    predictions[\"Rk\"] = list(range(1,predictions.shape[0]+1))\n",
    "    predictions[\"Diff\"] = (predictions[\"Rk\"] - predictions[\"Predicted_Rk\"])\n",
    "    return predictions\n",
    "add_ranks(all_predictions[1])"
   ]
  },
  {
   "cell_type": "code",
   "execution_count": null,
   "id": "f0173982-c6ea-4cc3-a914-e8b4806c5b0a",
   "metadata": {},
   "outputs": [],
   "source": [
    "#Backtest model for all years\n",
    "def backtest(mvpfactors, model, years, predictors):\n",
    "    aps = []\n",
    "    all_predictions = []\n",
    "    for year in years:\n",
    "        train = mvpfactors[mvpfactors[\"Season\"] < year]\n",
    "        test = mvpfactors[mvpfactors[\"Season\"] == year]\n",
    "        model.fit(train[predictors],train[\"Award_Shares\"])\n",
    "        predictions = model.predict(test[predictors])\n",
    "        predictions = pd.DataFrame(predictions, columns=[\"predictions\"], index=test.index)\n",
    "        combination = pd.concat([test[[\"Player\", \"Award_Shares\"]], predictions], axis=1)\n",
    "        combination = add_ranks(combination)\n",
    "        all_predictions.append(combination)\n",
    "        aps.append(find_ap(combination))\n",
    "    return sum(aps) / len(aps), aps, pd.concat(all_predictions)\n"
   ]
  },
  {
   "cell_type": "code",
   "execution_count": null,
   "id": "f65e7b63-4ae5-4b62-a0f8-e04cc3ff1310",
   "metadata": {},
   "outputs": [],
   "source": [
    "#mean_ap for backtest model\n",
    "mean_ap, aps, all_predictions = backtest(mvpfactors, reg, years[5:], predictors)\n",
    "mean_ap"
   ]
  },
  {
   "cell_type": "code",
   "execution_count": null,
   "id": "56c06432-2f64-45ff-8b53-f0ddab51288f",
   "metadata": {},
   "outputs": [],
   "source": [
    "#Sorting by the greatest difference between predicted rank and actual rank in top 5 MVP finishers\n",
    "all_predictions[all_predictions[\"Rk\"] < 5].sort_values(\"Diff\").head(10)"
   ]
  },
  {
   "cell_type": "code",
   "execution_count": null,
   "id": "581f6f46-d345-4075-ab9f-00965a9aac5b",
   "metadata": {},
   "outputs": [],
   "source": [
    "#Figuring out which stats the Ridge Regression Model cares the most about\n",
    "pd.concat([pd.Series(reg.coef_), pd.Series(predictors)], axis=1).sort_values(0, ascending=False)"
   ]
  },
  {
   "cell_type": "code",
   "execution_count": null,
   "id": "37d4d03e-7b25-40c2-866b-942451467a8a",
   "metadata": {},
   "outputs": [],
   "source": [
    "from sklearn.ensemble import RandomForestRegressor\n",
    "rf = RandomForestRegressor(n_estimators=50, random_state=1, min_samples_split=5)\n",
    "\n",
    "rftrain = mvpfactors[mvpfactors['Season'] < 2022]\n",
    "rftest = mvpfactors[mvpfactors['Season'] == 2022]\n",
    "\n",
    "rf.fit(rftrain[predictors], rftrain[\"Award_Shares\"])\n",
    "rfpredictions = rf.predict(rftest[predictors])\n",
    "rfpredictions = pd.DataFrame(rfpredictions, columns=[\"rfpredictions\"], index=rftest.index)\n",
    "rfcombination = pd.concat([rftest[[\"Player\", \"Award_Shares\"]], rfpredictions], axis=1)\n",
    "\n",
    "rfcombination = rfcombination.sort_values(\"Award_Shares\", ascending=False)\n",
    "rfcombination[\"Actual_Rank\"] = list(range(1, rfcombination.shape[0] + 1))\n",
    "rfcombination = rfcombination.sort_values(\"rfpredictions\", ascending=False)\n",
    "rfcombination[\"Predicted_Rank\"] = list(range(1, rfcombination.shape[0] + 1))\n",
    "rfcombination = rfcombination.sort_values(\"Award_Shares\", ascending=False)\n",
    "rfcombination.head(40)"
   ]
  },
  {
   "cell_type": "code",
   "execution_count": null,
   "id": "9ea863ef-ee2d-487d-81cb-bcadfff6317f",
   "metadata": {},
   "outputs": [],
   "source": [
    "#Mean Squared Error for Random Forest Regession\n",
    "mean_squared_error(rfcombination[\"Award_Shares\"], rfcombination[\"rfpredictions\"])"
   ]
  },
  {
   "cell_type": "code",
   "execution_count": null,
   "id": "6de07493-c7df-4799-b8e4-a9f1e8df89f8",
   "metadata": {},
   "outputs": [],
   "source": []
  }
 ],
 "metadata": {
  "kernelspec": {
   "display_name": "Python 3 (ipykernel)",
   "language": "python",
   "name": "python3"
  },
  "language_info": {
   "codemirror_mode": {
    "name": "ipython",
    "version": 3
   },
   "file_extension": ".py",
   "mimetype": "text/x-python",
   "name": "python",
   "nbconvert_exporter": "python",
   "pygments_lexer": "ipython3",
   "version": "3.12.4"
  }
 },
 "nbformat": 4,
 "nbformat_minor": 5
}
